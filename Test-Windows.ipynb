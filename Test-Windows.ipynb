{
 "cells": [
  {
   "cell_type": "markdown",
   "metadata": {},
   "source": [
    "### Demo code to unpack and run tweet LR model (Windows OS)"
   ]
  },
  {
   "cell_type": "code",
   "execution_count": 3,
   "metadata": {},
   "outputs": [],
   "source": [
    "## Use this notebook for unpacking the model and vector on a Windows based machine\n",
    "import sklearn\n",
    "import pickle\n",
    "import nltk\n",
    "#nltk.download('stopwords')"
   ]
  },
  {
   "cell_type": "code",
   "execution_count": 4,
   "metadata": {},
   "outputs": [],
   "source": [
    "# Cleanup code from the main notebook\n",
    "\n",
    "from nltk.corpus import stopwords # nltk.download('stopwords') before importing\n",
    "from nltk.stem import PorterStemmer\n",
    "stemmer = PorterStemmer()\n",
    "\n",
    "def clean(tweet):\n",
    "    stage1 = [word for word in tweet.lower().split() if word not in stopwords.words('english')] # stopword removal\n",
    "    stage2 = [word[1:] if word.startswith('#') else word for word in stage1] # Hashtag symbol removal\n",
    "    stage3 = [stemmer.stem(word) for word in stage2 if not any([word.startswith('@'), word.startswith('http'), word.startswith('www')])] # @ mentions and websites removal and stemming\n",
    "    return ' '.join(stage3)"
   ]
  },
  {
   "cell_type": "code",
   "execution_count": 5,
   "metadata": {},
   "outputs": [],
   "source": [
    "# Predict function from the main notebook\n",
    "\n",
    "def predict(tweet, model):\n",
    "    return model.predict(vector.transform([clean(tweet)]))"
   ]
  },
  {
   "cell_type": "code",
   "execution_count": 6,
   "metadata": {},
   "outputs": [],
   "source": [
    "with open('Pickled data/model.pickle', 'rb') as f:\n",
    "    model_LR = pickle.load(f)\n",
    "    \n",
    "with open('Pickled data/naive-bayes.pickle', 'rb') as f2:\n",
    "    model_NB = pickle.load(f2)\n",
    "    \n",
    "with open('Pickled data/vector.pickle', 'rb') as f3:\n",
    "    vector = pickle.load(f3)"
   ]
  },
  {
   "cell_type": "code",
   "execution_count": 14,
   "metadata": {},
   "outputs": [
    {
     "data": {
      "text/plain": [
       "array([1.])"
      ]
     },
     "execution_count": 14,
     "metadata": {},
     "output_type": "execute_result"
    }
   ],
   "source": [
    "predict('Super excited that the stock market hit an all time high today!', model = model_LR)"
   ]
  },
  {
   "cell_type": "code",
   "execution_count": 7,
   "metadata": {},
   "outputs": [
    {
     "data": {
      "text/plain": [
       "array([1.])"
      ]
     },
     "execution_count": 7,
     "metadata": {},
     "output_type": "execute_result"
    }
   ],
   "source": [
    "predict('Super excited that the stock market hit an all time high today!', model = model_NB)"
   ]
  }
 ],
 "metadata": {
  "kernelspec": {
   "display_name": "Python 3",
   "language": "python",
   "name": "python3"
  },
  "language_info": {
   "codemirror_mode": {
    "name": "ipython",
    "version": 3
   },
   "file_extension": ".py",
   "mimetype": "text/x-python",
   "name": "python",
   "nbconvert_exporter": "python",
   "pygments_lexer": "ipython3",
   "version": "3.7.5"
  }
 },
 "nbformat": 4,
 "nbformat_minor": 4
}
